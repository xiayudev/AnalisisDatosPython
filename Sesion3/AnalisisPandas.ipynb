{
 "cells": [
  {
   "cell_type": "code",
   "execution_count": 1,
   "id": "30528ee6",
   "metadata": {},
   "outputs": [],
   "source": [
    "import pandas as pd\n",
    "import numpy as np"
   ]
  },
  {
   "cell_type": "code",
   "execution_count": 8,
   "id": "fb70c3da",
   "metadata": {},
   "outputs": [],
   "source": [
    "sales = pd.read_csv(\"./data/sales_data_sample.csv\", encoding='ISO-8859-1')"
   ]
  },
  {
   "cell_type": "code",
   "execution_count": 9,
   "id": "0e7ec4bb",
   "metadata": {},
   "outputs": [
    {
     "data": {
      "text/plain": [
       "Index(['ORDERNUMBER', 'QUANTITYORDERED', 'PRICEEACH', 'ORDERLINENUMBER',\n",
       "       'SALES', 'ORDERDATE', 'STATUS', 'QTR_ID', 'MONTH_ID', 'YEAR_ID',\n",
       "       'PRODUCTLINE', 'MSRP', 'PRODUCTCODE', 'CUSTOMERNAME', 'PHONE',\n",
       "       'ADDRESSLINE1', 'ADDRESSLINE2', 'CITY', 'STATE', 'POSTALCODE',\n",
       "       'COUNTRY', 'TERRITORY', 'CONTACTLASTNAME', 'CONTACTFIRSTNAME',\n",
       "       'DEALSIZE'],\n",
       "      dtype='object')"
      ]
     },
     "execution_count": 9,
     "metadata": {},
     "output_type": "execute_result"
    }
   ],
   "source": [
    "sales.columns"
   ]
  },
  {
   "cell_type": "code",
   "execution_count": 10,
   "id": "421108c9",
   "metadata": {},
   "outputs": [
    {
     "data": {
      "text/html": [
       "<div>\n",
       "<style scoped>\n",
       "    .dataframe tbody tr th:only-of-type {\n",
       "        vertical-align: middle;\n",
       "    }\n",
       "\n",
       "    .dataframe tbody tr th {\n",
       "        vertical-align: top;\n",
       "    }\n",
       "\n",
       "    .dataframe thead th {\n",
       "        text-align: right;\n",
       "    }\n",
       "</style>\n",
       "<table border=\"1\" class=\"dataframe\">\n",
       "  <thead>\n",
       "    <tr style=\"text-align: right;\">\n",
       "      <th></th>\n",
       "      <th>ORDERNUMBER</th>\n",
       "      <th>QUANTITYORDERED</th>\n",
       "      <th>PRICEEACH</th>\n",
       "      <th>ORDERLINENUMBER</th>\n",
       "      <th>SALES</th>\n",
       "      <th>QTR_ID</th>\n",
       "      <th>MONTH_ID</th>\n",
       "      <th>YEAR_ID</th>\n",
       "      <th>MSRP</th>\n",
       "    </tr>\n",
       "  </thead>\n",
       "  <tbody>\n",
       "    <tr>\n",
       "      <th>count</th>\n",
       "      <td>2823.000000</td>\n",
       "      <td>2823.000000</td>\n",
       "      <td>2823.000000</td>\n",
       "      <td>2823.000000</td>\n",
       "      <td>2823.000000</td>\n",
       "      <td>2823.000000</td>\n",
       "      <td>2823.000000</td>\n",
       "      <td>2823.00000</td>\n",
       "      <td>2823.000000</td>\n",
       "    </tr>\n",
       "    <tr>\n",
       "      <th>mean</th>\n",
       "      <td>10258.725115</td>\n",
       "      <td>35.092809</td>\n",
       "      <td>83.658544</td>\n",
       "      <td>6.466171</td>\n",
       "      <td>3553.889072</td>\n",
       "      <td>2.717676</td>\n",
       "      <td>7.092455</td>\n",
       "      <td>2003.81509</td>\n",
       "      <td>100.715551</td>\n",
       "    </tr>\n",
       "    <tr>\n",
       "      <th>std</th>\n",
       "      <td>92.085478</td>\n",
       "      <td>9.741443</td>\n",
       "      <td>20.174277</td>\n",
       "      <td>4.225841</td>\n",
       "      <td>1841.865106</td>\n",
       "      <td>1.203878</td>\n",
       "      <td>3.656633</td>\n",
       "      <td>0.69967</td>\n",
       "      <td>40.187912</td>\n",
       "    </tr>\n",
       "    <tr>\n",
       "      <th>min</th>\n",
       "      <td>10100.000000</td>\n",
       "      <td>6.000000</td>\n",
       "      <td>26.880000</td>\n",
       "      <td>1.000000</td>\n",
       "      <td>482.130000</td>\n",
       "      <td>1.000000</td>\n",
       "      <td>1.000000</td>\n",
       "      <td>2003.00000</td>\n",
       "      <td>33.000000</td>\n",
       "    </tr>\n",
       "    <tr>\n",
       "      <th>25%</th>\n",
       "      <td>10180.000000</td>\n",
       "      <td>27.000000</td>\n",
       "      <td>68.860000</td>\n",
       "      <td>3.000000</td>\n",
       "      <td>2203.430000</td>\n",
       "      <td>2.000000</td>\n",
       "      <td>4.000000</td>\n",
       "      <td>2003.00000</td>\n",
       "      <td>68.000000</td>\n",
       "    </tr>\n",
       "    <tr>\n",
       "      <th>50%</th>\n",
       "      <td>10262.000000</td>\n",
       "      <td>35.000000</td>\n",
       "      <td>95.700000</td>\n",
       "      <td>6.000000</td>\n",
       "      <td>3184.800000</td>\n",
       "      <td>3.000000</td>\n",
       "      <td>8.000000</td>\n",
       "      <td>2004.00000</td>\n",
       "      <td>99.000000</td>\n",
       "    </tr>\n",
       "    <tr>\n",
       "      <th>75%</th>\n",
       "      <td>10333.500000</td>\n",
       "      <td>43.000000</td>\n",
       "      <td>100.000000</td>\n",
       "      <td>9.000000</td>\n",
       "      <td>4508.000000</td>\n",
       "      <td>4.000000</td>\n",
       "      <td>11.000000</td>\n",
       "      <td>2004.00000</td>\n",
       "      <td>124.000000</td>\n",
       "    </tr>\n",
       "    <tr>\n",
       "      <th>max</th>\n",
       "      <td>10425.000000</td>\n",
       "      <td>97.000000</td>\n",
       "      <td>100.000000</td>\n",
       "      <td>18.000000</td>\n",
       "      <td>14082.800000</td>\n",
       "      <td>4.000000</td>\n",
       "      <td>12.000000</td>\n",
       "      <td>2005.00000</td>\n",
       "      <td>214.000000</td>\n",
       "    </tr>\n",
       "  </tbody>\n",
       "</table>\n",
       "</div>"
      ],
      "text/plain": [
       "        ORDERNUMBER  QUANTITYORDERED    PRICEEACH  ORDERLINENUMBER  \\\n",
       "count   2823.000000      2823.000000  2823.000000      2823.000000   \n",
       "mean   10258.725115        35.092809    83.658544         6.466171   \n",
       "std       92.085478         9.741443    20.174277         4.225841   \n",
       "min    10100.000000         6.000000    26.880000         1.000000   \n",
       "25%    10180.000000        27.000000    68.860000         3.000000   \n",
       "50%    10262.000000        35.000000    95.700000         6.000000   \n",
       "75%    10333.500000        43.000000   100.000000         9.000000   \n",
       "max    10425.000000        97.000000   100.000000        18.000000   \n",
       "\n",
       "              SALES       QTR_ID     MONTH_ID     YEAR_ID         MSRP  \n",
       "count   2823.000000  2823.000000  2823.000000  2823.00000  2823.000000  \n",
       "mean    3553.889072     2.717676     7.092455  2003.81509   100.715551  \n",
       "std     1841.865106     1.203878     3.656633     0.69967    40.187912  \n",
       "min      482.130000     1.000000     1.000000  2003.00000    33.000000  \n",
       "25%     2203.430000     2.000000     4.000000  2003.00000    68.000000  \n",
       "50%     3184.800000     3.000000     8.000000  2004.00000    99.000000  \n",
       "75%     4508.000000     4.000000    11.000000  2004.00000   124.000000  \n",
       "max    14082.800000     4.000000    12.000000  2005.00000   214.000000  "
      ]
     },
     "execution_count": 10,
     "metadata": {},
     "output_type": "execute_result"
    }
   ],
   "source": [
    "sales.describe()"
   ]
  },
  {
   "cell_type": "code",
   "execution_count": 11,
   "id": "9ca6a413",
   "metadata": {},
   "outputs": [
    {
     "data": {
      "text/plain": [
       "ORDERNUMBER           int64\n",
       "QUANTITYORDERED       int64\n",
       "PRICEEACH           float64\n",
       "ORDERLINENUMBER       int64\n",
       "SALES               float64\n",
       "ORDERDATE            object\n",
       "STATUS               object\n",
       "QTR_ID                int64\n",
       "MONTH_ID              int64\n",
       "YEAR_ID               int64\n",
       "PRODUCTLINE          object\n",
       "MSRP                  int64\n",
       "PRODUCTCODE          object\n",
       "CUSTOMERNAME         object\n",
       "PHONE                object\n",
       "ADDRESSLINE1         object\n",
       "ADDRESSLINE2         object\n",
       "CITY                 object\n",
       "STATE                object\n",
       "POSTALCODE           object\n",
       "COUNTRY              object\n",
       "TERRITORY            object\n",
       "CONTACTLASTNAME      object\n",
       "CONTACTFIRSTNAME     object\n",
       "DEALSIZE             object\n",
       "dtype: object"
      ]
     },
     "execution_count": 11,
     "metadata": {},
     "output_type": "execute_result"
    }
   ],
   "source": [
    "sales.dtypes"
   ]
  },
  {
   "cell_type": "code",
   "execution_count": 12,
   "id": "50e3a0cd",
   "metadata": {},
   "outputs": [
    {
     "data": {
      "text/html": [
       "<div>\n",
       "<style scoped>\n",
       "    .dataframe tbody tr th:only-of-type {\n",
       "        vertical-align: middle;\n",
       "    }\n",
       "\n",
       "    .dataframe tbody tr th {\n",
       "        vertical-align: top;\n",
       "    }\n",
       "\n",
       "    .dataframe thead th {\n",
       "        text-align: right;\n",
       "    }\n",
       "</style>\n",
       "<table border=\"1\" class=\"dataframe\">\n",
       "  <thead>\n",
       "    <tr style=\"text-align: right;\">\n",
       "      <th></th>\n",
       "      <th>total_null</th>\n",
       "      <th>percent_null</th>\n",
       "    </tr>\n",
       "  </thead>\n",
       "  <tbody>\n",
       "    <tr>\n",
       "      <th>ADDRESSLINE2</th>\n",
       "      <td>2521</td>\n",
       "      <td>0.893022</td>\n",
       "    </tr>\n",
       "    <tr>\n",
       "      <th>STATE</th>\n",
       "      <td>1486</td>\n",
       "      <td>0.526390</td>\n",
       "    </tr>\n",
       "    <tr>\n",
       "      <th>TERRITORY</th>\n",
       "      <td>1074</td>\n",
       "      <td>0.380446</td>\n",
       "    </tr>\n",
       "    <tr>\n",
       "      <th>POSTALCODE</th>\n",
       "      <td>76</td>\n",
       "      <td>0.026922</td>\n",
       "    </tr>\n",
       "    <tr>\n",
       "      <th>SALES</th>\n",
       "      <td>0</td>\n",
       "      <td>0.000000</td>\n",
       "    </tr>\n",
       "    <tr>\n",
       "      <th>QUANTITYORDERED</th>\n",
       "      <td>0</td>\n",
       "      <td>0.000000</td>\n",
       "    </tr>\n",
       "    <tr>\n",
       "      <th>PRICEEACH</th>\n",
       "      <td>0</td>\n",
       "      <td>0.000000</td>\n",
       "    </tr>\n",
       "    <tr>\n",
       "      <th>ORDERLINENUMBER</th>\n",
       "      <td>0</td>\n",
       "      <td>0.000000</td>\n",
       "    </tr>\n",
       "    <tr>\n",
       "      <th>ORDERNUMBER</th>\n",
       "      <td>0</td>\n",
       "      <td>0.000000</td>\n",
       "    </tr>\n",
       "    <tr>\n",
       "      <th>MONTH_ID</th>\n",
       "      <td>0</td>\n",
       "      <td>0.000000</td>\n",
       "    </tr>\n",
       "    <tr>\n",
       "      <th>QTR_ID</th>\n",
       "      <td>0</td>\n",
       "      <td>0.000000</td>\n",
       "    </tr>\n",
       "    <tr>\n",
       "      <th>STATUS</th>\n",
       "      <td>0</td>\n",
       "      <td>0.000000</td>\n",
       "    </tr>\n",
       "    <tr>\n",
       "      <th>ORDERDATE</th>\n",
       "      <td>0</td>\n",
       "      <td>0.000000</td>\n",
       "    </tr>\n",
       "    <tr>\n",
       "      <th>PRODUCTCODE</th>\n",
       "      <td>0</td>\n",
       "      <td>0.000000</td>\n",
       "    </tr>\n",
       "    <tr>\n",
       "      <th>YEAR_ID</th>\n",
       "      <td>0</td>\n",
       "      <td>0.000000</td>\n",
       "    </tr>\n",
       "    <tr>\n",
       "      <th>MSRP</th>\n",
       "      <td>0</td>\n",
       "      <td>0.000000</td>\n",
       "    </tr>\n",
       "    <tr>\n",
       "      <th>PRODUCTLINE</th>\n",
       "      <td>0</td>\n",
       "      <td>0.000000</td>\n",
       "    </tr>\n",
       "    <tr>\n",
       "      <th>ADDRESSLINE1</th>\n",
       "      <td>0</td>\n",
       "      <td>0.000000</td>\n",
       "    </tr>\n",
       "    <tr>\n",
       "      <th>PHONE</th>\n",
       "      <td>0</td>\n",
       "      <td>0.000000</td>\n",
       "    </tr>\n",
       "    <tr>\n",
       "      <th>CUSTOMERNAME</th>\n",
       "      <td>0</td>\n",
       "      <td>0.000000</td>\n",
       "    </tr>\n",
       "    <tr>\n",
       "      <th>CITY</th>\n",
       "      <td>0</td>\n",
       "      <td>0.000000</td>\n",
       "    </tr>\n",
       "    <tr>\n",
       "      <th>COUNTRY</th>\n",
       "      <td>0</td>\n",
       "      <td>0.000000</td>\n",
       "    </tr>\n",
       "    <tr>\n",
       "      <th>CONTACTLASTNAME</th>\n",
       "      <td>0</td>\n",
       "      <td>0.000000</td>\n",
       "    </tr>\n",
       "    <tr>\n",
       "      <th>CONTACTFIRSTNAME</th>\n",
       "      <td>0</td>\n",
       "      <td>0.000000</td>\n",
       "    </tr>\n",
       "    <tr>\n",
       "      <th>DEALSIZE</th>\n",
       "      <td>0</td>\n",
       "      <td>0.000000</td>\n",
       "    </tr>\n",
       "  </tbody>\n",
       "</table>\n",
       "</div>"
      ],
      "text/plain": [
       "                  total_null  percent_null\n",
       "ADDRESSLINE2            2521      0.893022\n",
       "STATE                   1486      0.526390\n",
       "TERRITORY               1074      0.380446\n",
       "POSTALCODE                76      0.026922\n",
       "SALES                      0      0.000000\n",
       "QUANTITYORDERED            0      0.000000\n",
       "PRICEEACH                  0      0.000000\n",
       "ORDERLINENUMBER            0      0.000000\n",
       "ORDERNUMBER                0      0.000000\n",
       "MONTH_ID                   0      0.000000\n",
       "QTR_ID                     0      0.000000\n",
       "STATUS                     0      0.000000\n",
       "ORDERDATE                  0      0.000000\n",
       "PRODUCTCODE                0      0.000000\n",
       "YEAR_ID                    0      0.000000\n",
       "MSRP                       0      0.000000\n",
       "PRODUCTLINE                0      0.000000\n",
       "ADDRESSLINE1               0      0.000000\n",
       "PHONE                      0      0.000000\n",
       "CUSTOMERNAME               0      0.000000\n",
       "CITY                       0      0.000000\n",
       "COUNTRY                    0      0.000000\n",
       "CONTACTLASTNAME            0      0.000000\n",
       "CONTACTFIRSTNAME           0      0.000000\n",
       "DEALSIZE                   0      0.000000"
      ]
     },
     "execution_count": 12,
     "metadata": {},
     "output_type": "execute_result"
    }
   ],
   "source": [
    "total_null = sales.isnull().sum().sort_values(ascending = False) # Total de nulos\n",
    "percent_null = (sales.isnull().sum()/sales.isnull().count()).sort_values(ascending = False) #porcentaje de nulos\n",
    "missing_data = pd.concat([total_null,percent_null],axis = 1,keys=['total_null','percent_null'])\n",
    "missing_data"
   ]
  },
  {
   "cell_type": "code",
   "execution_count": 13,
   "id": "f72d85d2",
   "metadata": {},
   "outputs": [
    {
     "data": {
      "text/plain": [
       "ADDRESSLINE2        2521\n",
       "STATE               1486\n",
       "TERRITORY           1074\n",
       "POSTALCODE            76\n",
       "SALES                  0\n",
       "QUANTITYORDERED        0\n",
       "PRICEEACH              0\n",
       "ORDERLINENUMBER        0\n",
       "ORDERNUMBER            0\n",
       "MONTH_ID               0\n",
       "QTR_ID                 0\n",
       "STATUS                 0\n",
       "ORDERDATE              0\n",
       "PRODUCTCODE            0\n",
       "YEAR_ID                0\n",
       "MSRP                   0\n",
       "PRODUCTLINE            0\n",
       "ADDRESSLINE1           0\n",
       "PHONE                  0\n",
       "CUSTOMERNAME           0\n",
       "CITY                   0\n",
       "COUNTRY                0\n",
       "CONTACTLASTNAME        0\n",
       "CONTACTFIRSTNAME       0\n",
       "DEALSIZE               0\n",
       "dtype: int64"
      ]
     },
     "execution_count": 13,
     "metadata": {},
     "output_type": "execute_result"
    }
   ],
   "source": [
    "total_null = sales.isnull().sum().sort_values(ascending = False)\n",
    "total_null"
   ]
  },
  {
   "cell_type": "code",
   "execution_count": 14,
   "id": "9768fac0",
   "metadata": {},
   "outputs": [
    {
     "data": {
      "text/html": [
       "<div>\n",
       "<style scoped>\n",
       "    .dataframe tbody tr th:only-of-type {\n",
       "        vertical-align: middle;\n",
       "    }\n",
       "\n",
       "    .dataframe tbody tr th {\n",
       "        vertical-align: top;\n",
       "    }\n",
       "\n",
       "    .dataframe thead th {\n",
       "        text-align: right;\n",
       "    }\n",
       "</style>\n",
       "<table border=\"1\" class=\"dataframe\">\n",
       "  <thead>\n",
       "    <tr style=\"text-align: right;\">\n",
       "      <th></th>\n",
       "      <th>PRICEEACH</th>\n",
       "      <th>SALES</th>\n",
       "    </tr>\n",
       "  </thead>\n",
       "  <tbody>\n",
       "    <tr>\n",
       "      <th>0</th>\n",
       "      <td>95.70</td>\n",
       "      <td>2871.00</td>\n",
       "    </tr>\n",
       "    <tr>\n",
       "      <th>1</th>\n",
       "      <td>81.35</td>\n",
       "      <td>2765.90</td>\n",
       "    </tr>\n",
       "    <tr>\n",
       "      <th>2</th>\n",
       "      <td>94.74</td>\n",
       "      <td>3884.34</td>\n",
       "    </tr>\n",
       "    <tr>\n",
       "      <th>3</th>\n",
       "      <td>83.26</td>\n",
       "      <td>3746.70</td>\n",
       "    </tr>\n",
       "    <tr>\n",
       "      <th>4</th>\n",
       "      <td>100.00</td>\n",
       "      <td>5205.27</td>\n",
       "    </tr>\n",
       "    <tr>\n",
       "      <th>...</th>\n",
       "      <td>...</td>\n",
       "      <td>...</td>\n",
       "    </tr>\n",
       "    <tr>\n",
       "      <th>2818</th>\n",
       "      <td>100.00</td>\n",
       "      <td>2244.40</td>\n",
       "    </tr>\n",
       "    <tr>\n",
       "      <th>2819</th>\n",
       "      <td>100.00</td>\n",
       "      <td>3978.51</td>\n",
       "    </tr>\n",
       "    <tr>\n",
       "      <th>2820</th>\n",
       "      <td>100.00</td>\n",
       "      <td>5417.57</td>\n",
       "    </tr>\n",
       "    <tr>\n",
       "      <th>2821</th>\n",
       "      <td>62.24</td>\n",
       "      <td>2116.16</td>\n",
       "    </tr>\n",
       "    <tr>\n",
       "      <th>2822</th>\n",
       "      <td>65.52</td>\n",
       "      <td>3079.44</td>\n",
       "    </tr>\n",
       "  </tbody>\n",
       "</table>\n",
       "<p>2823 rows × 2 columns</p>\n",
       "</div>"
      ],
      "text/plain": [
       "      PRICEEACH    SALES\n",
       "0         95.70  2871.00\n",
       "1         81.35  2765.90\n",
       "2         94.74  3884.34\n",
       "3         83.26  3746.70\n",
       "4        100.00  5205.27\n",
       "...         ...      ...\n",
       "2818     100.00  2244.40\n",
       "2819     100.00  3978.51\n",
       "2820     100.00  5417.57\n",
       "2821      62.24  2116.16\n",
       "2822      65.52  3079.44\n",
       "\n",
       "[2823 rows x 2 columns]"
      ]
     },
     "execution_count": 14,
     "metadata": {},
     "output_type": "execute_result"
    }
   ],
   "source": [
    "# Seleccionamos columnas de tipo entero\n",
    "sales.select_dtypes(include=['float'])"
   ]
  },
  {
   "cell_type": "code",
   "execution_count": 15,
   "id": "e6c16ef1",
   "metadata": {},
   "outputs": [
    {
     "data": {
      "text/html": [
       "<div>\n",
       "<style scoped>\n",
       "    .dataframe tbody tr th:only-of-type {\n",
       "        vertical-align: middle;\n",
       "    }\n",
       "\n",
       "    .dataframe tbody tr th {\n",
       "        vertical-align: top;\n",
       "    }\n",
       "\n",
       "    .dataframe thead th {\n",
       "        text-align: right;\n",
       "    }\n",
       "</style>\n",
       "<table border=\"1\" class=\"dataframe\">\n",
       "  <thead>\n",
       "    <tr style=\"text-align: right;\">\n",
       "      <th></th>\n",
       "      <th>CUSTOMERNAME</th>\n",
       "      <th>CONTACTFIRSTNAME</th>\n",
       "    </tr>\n",
       "  </thead>\n",
       "  <tbody>\n",
       "    <tr>\n",
       "      <th>0</th>\n",
       "      <td>Land of Toys Inc.</td>\n",
       "      <td>Kwai</td>\n",
       "    </tr>\n",
       "    <tr>\n",
       "      <th>1</th>\n",
       "      <td>Reims Collectables</td>\n",
       "      <td>Paul</td>\n",
       "    </tr>\n",
       "    <tr>\n",
       "      <th>2</th>\n",
       "      <td>Lyon Souveniers</td>\n",
       "      <td>Daniel</td>\n",
       "    </tr>\n",
       "    <tr>\n",
       "      <th>3</th>\n",
       "      <td>Toys4GrownUps.com</td>\n",
       "      <td>Julie</td>\n",
       "    </tr>\n",
       "    <tr>\n",
       "      <th>4</th>\n",
       "      <td>Corporate Gift Ideas Co.</td>\n",
       "      <td>Julie</td>\n",
       "    </tr>\n",
       "    <tr>\n",
       "      <th>...</th>\n",
       "      <td>...</td>\n",
       "      <td>...</td>\n",
       "    </tr>\n",
       "    <tr>\n",
       "      <th>2818</th>\n",
       "      <td>Euro Shopping Channel</td>\n",
       "      <td>Diego</td>\n",
       "    </tr>\n",
       "    <tr>\n",
       "      <th>2819</th>\n",
       "      <td>Oulu Toy Supplies, Inc.</td>\n",
       "      <td>Pirkko</td>\n",
       "    </tr>\n",
       "    <tr>\n",
       "      <th>2820</th>\n",
       "      <td>Euro Shopping Channel</td>\n",
       "      <td>Diego</td>\n",
       "    </tr>\n",
       "    <tr>\n",
       "      <th>2821</th>\n",
       "      <td>Alpha Cognac</td>\n",
       "      <td>Annette</td>\n",
       "    </tr>\n",
       "    <tr>\n",
       "      <th>2822</th>\n",
       "      <td>Gifts4AllAges.com</td>\n",
       "      <td>Juri</td>\n",
       "    </tr>\n",
       "  </tbody>\n",
       "</table>\n",
       "<p>2823 rows × 2 columns</p>\n",
       "</div>"
      ],
      "text/plain": [
       "                  CUSTOMERNAME CONTACTFIRSTNAME\n",
       "0            Land of Toys Inc.             Kwai\n",
       "1           Reims Collectables             Paul\n",
       "2              Lyon Souveniers           Daniel\n",
       "3            Toys4GrownUps.com            Julie\n",
       "4     Corporate Gift Ideas Co.            Julie\n",
       "...                        ...              ...\n",
       "2818     Euro Shopping Channel            Diego\n",
       "2819   Oulu Toy Supplies, Inc.           Pirkko\n",
       "2820     Euro Shopping Channel            Diego\n",
       "2821              Alpha Cognac          Annette\n",
       "2822         Gifts4AllAges.com             Juri\n",
       "\n",
       "[2823 rows x 2 columns]"
      ]
     },
     "execution_count": 15,
     "metadata": {},
     "output_type": "execute_result"
    }
   ],
   "source": [
    "# Seleccion de columnas \n",
    "sales[[\"CUSTOMERNAME\",\"CONTACTFIRSTNAME\"]]"
   ]
  },
  {
   "cell_type": "code",
   "execution_count": 16,
   "id": "16d9c109",
   "metadata": {},
   "outputs": [
    {
     "data": {
      "text/html": [
       "<div>\n",
       "<style scoped>\n",
       "    .dataframe tbody tr th:only-of-type {\n",
       "        vertical-align: middle;\n",
       "    }\n",
       "\n",
       "    .dataframe tbody tr th {\n",
       "        vertical-align: top;\n",
       "    }\n",
       "\n",
       "    .dataframe thead th {\n",
       "        text-align: right;\n",
       "    }\n",
       "</style>\n",
       "<table border=\"1\" class=\"dataframe\">\n",
       "  <thead>\n",
       "    <tr style=\"text-align: right;\">\n",
       "      <th></th>\n",
       "      <th>CONTACTFIRSTNAME</th>\n",
       "      <th>DEALSIZE</th>\n",
       "    </tr>\n",
       "  </thead>\n",
       "  <tbody>\n",
       "    <tr>\n",
       "      <th>0</th>\n",
       "      <td>Kwai</td>\n",
       "      <td>Small</td>\n",
       "    </tr>\n",
       "    <tr>\n",
       "      <th>1</th>\n",
       "      <td>Paul</td>\n",
       "      <td>Small</td>\n",
       "    </tr>\n",
       "    <tr>\n",
       "      <th>2</th>\n",
       "      <td>Daniel</td>\n",
       "      <td>Medium</td>\n",
       "    </tr>\n",
       "    <tr>\n",
       "      <th>3</th>\n",
       "      <td>Julie</td>\n",
       "      <td>Medium</td>\n",
       "    </tr>\n",
       "    <tr>\n",
       "      <th>4</th>\n",
       "      <td>Julie</td>\n",
       "      <td>Medium</td>\n",
       "    </tr>\n",
       "    <tr>\n",
       "      <th>...</th>\n",
       "      <td>...</td>\n",
       "      <td>...</td>\n",
       "    </tr>\n",
       "    <tr>\n",
       "      <th>2818</th>\n",
       "      <td>Diego</td>\n",
       "      <td>Small</td>\n",
       "    </tr>\n",
       "    <tr>\n",
       "      <th>2819</th>\n",
       "      <td>Pirkko</td>\n",
       "      <td>Medium</td>\n",
       "    </tr>\n",
       "    <tr>\n",
       "      <th>2820</th>\n",
       "      <td>Diego</td>\n",
       "      <td>Medium</td>\n",
       "    </tr>\n",
       "    <tr>\n",
       "      <th>2821</th>\n",
       "      <td>Annette</td>\n",
       "      <td>Small</td>\n",
       "    </tr>\n",
       "    <tr>\n",
       "      <th>2822</th>\n",
       "      <td>Juri</td>\n",
       "      <td>Medium</td>\n",
       "    </tr>\n",
       "  </tbody>\n",
       "</table>\n",
       "<p>2823 rows × 2 columns</p>\n",
       "</div>"
      ],
      "text/plain": [
       "     CONTACTFIRSTNAME DEALSIZE\n",
       "0                Kwai    Small\n",
       "1                Paul    Small\n",
       "2              Daniel   Medium\n",
       "3               Julie   Medium\n",
       "4               Julie   Medium\n",
       "...               ...      ...\n",
       "2818            Diego    Small\n",
       "2819           Pirkko   Medium\n",
       "2820            Diego   Medium\n",
       "2821          Annette    Small\n",
       "2822             Juri   Medium\n",
       "\n",
       "[2823 rows x 2 columns]"
      ]
     },
     "execution_count": 16,
     "metadata": {},
     "output_type": "execute_result"
    }
   ],
   "source": [
    "# Seleccion de columnas mediante una lista\n",
    "sales[sales.columns[-2:]]\n"
   ]
  },
  {
   "cell_type": "code",
   "execution_count": 17,
   "id": "3f03634f",
   "metadata": {},
   "outputs": [
    {
     "data": {
      "text/html": [
       "<div>\n",
       "<style scoped>\n",
       "    .dataframe tbody tr th:only-of-type {\n",
       "        vertical-align: middle;\n",
       "    }\n",
       "\n",
       "    .dataframe tbody tr th {\n",
       "        vertical-align: top;\n",
       "    }\n",
       "\n",
       "    .dataframe thead th {\n",
       "        text-align: right;\n",
       "    }\n",
       "</style>\n",
       "<table border=\"1\" class=\"dataframe\">\n",
       "  <thead>\n",
       "    <tr style=\"text-align: right;\">\n",
       "      <th></th>\n",
       "      <th>CUSTOMERNAME</th>\n",
       "      <th>CONTACTFIRSTNAME</th>\n",
       "    </tr>\n",
       "  </thead>\n",
       "  <tbody>\n",
       "    <tr>\n",
       "      <th>0</th>\n",
       "      <td>Land of Toys Inc.</td>\n",
       "      <td>Kwai</td>\n",
       "    </tr>\n",
       "    <tr>\n",
       "      <th>1</th>\n",
       "      <td>Reims Collectables</td>\n",
       "      <td>Paul</td>\n",
       "    </tr>\n",
       "    <tr>\n",
       "      <th>2</th>\n",
       "      <td>Lyon Souveniers</td>\n",
       "      <td>Daniel</td>\n",
       "    </tr>\n",
       "    <tr>\n",
       "      <th>3</th>\n",
       "      <td>Toys4GrownUps.com</td>\n",
       "      <td>Julie</td>\n",
       "    </tr>\n",
       "    <tr>\n",
       "      <th>4</th>\n",
       "      <td>Corporate Gift Ideas Co.</td>\n",
       "      <td>Julie</td>\n",
       "    </tr>\n",
       "    <tr>\n",
       "      <th>...</th>\n",
       "      <td>...</td>\n",
       "      <td>...</td>\n",
       "    </tr>\n",
       "    <tr>\n",
       "      <th>2818</th>\n",
       "      <td>Euro Shopping Channel</td>\n",
       "      <td>Diego</td>\n",
       "    </tr>\n",
       "    <tr>\n",
       "      <th>2819</th>\n",
       "      <td>Oulu Toy Supplies, Inc.</td>\n",
       "      <td>Pirkko</td>\n",
       "    </tr>\n",
       "    <tr>\n",
       "      <th>2820</th>\n",
       "      <td>Euro Shopping Channel</td>\n",
       "      <td>Diego</td>\n",
       "    </tr>\n",
       "    <tr>\n",
       "      <th>2821</th>\n",
       "      <td>Alpha Cognac</td>\n",
       "      <td>Annette</td>\n",
       "    </tr>\n",
       "    <tr>\n",
       "      <th>2822</th>\n",
       "      <td>Gifts4AllAges.com</td>\n",
       "      <td>Juri</td>\n",
       "    </tr>\n",
       "  </tbody>\n",
       "</table>\n",
       "<p>2823 rows × 2 columns</p>\n",
       "</div>"
      ],
      "text/plain": [
       "                  CUSTOMERNAME CONTACTFIRSTNAME\n",
       "0            Land of Toys Inc.             Kwai\n",
       "1           Reims Collectables             Paul\n",
       "2              Lyon Souveniers           Daniel\n",
       "3            Toys4GrownUps.com            Julie\n",
       "4     Corporate Gift Ideas Co.            Julie\n",
       "...                        ...              ...\n",
       "2818     Euro Shopping Channel            Diego\n",
       "2819   Oulu Toy Supplies, Inc.           Pirkko\n",
       "2820     Euro Shopping Channel            Diego\n",
       "2821              Alpha Cognac          Annette\n",
       "2822         Gifts4AllAges.com             Juri\n",
       "\n",
       "[2823 rows x 2 columns]"
      ]
     },
     "execution_count": 17,
     "metadata": {},
     "output_type": "execute_result"
    }
   ],
   "source": [
    "# Creamos una mascara boolean\n",
    "booleanMask = sales.columns.isin([\"CUSTOMERNAME\",\"CONTACTFIRSTNAME\"])\n",
    "\n",
    "# guardamos las columnas que vamos a seleccionar \n",
    "selectedCols = sales.columns[booleanMask]\n",
    "# Seleccionamos las columnas deseadas\n",
    "sales[selectedCols]"
   ]
  },
  {
   "cell_type": "code",
   "execution_count": 18,
   "id": "755a2c5d",
   "metadata": {},
   "outputs": [
    {
     "name": "stdout",
     "output_type": "stream",
     "text": [
      "[False False False False False False False False False False False False\n",
      " False  True False False False False False False False False False False\n",
      " False]\n",
      "Index(['ORDERNUMBER', 'QUANTITYORDERED', 'PRICEEACH', 'ORDERLINENUMBER',\n",
      "       'SALES', 'ORDERDATE', 'STATUS', 'QTR_ID', 'MONTH_ID', 'YEAR_ID',\n",
      "       'PRODUCTLINE', 'MSRP', 'PRODUCTCODE', 'CUSTOMERNAME', 'PHONE',\n",
      "       'ADDRESSLINE1', 'ADDRESSLINE2', 'CITY', 'STATE', 'POSTALCODE',\n",
      "       'COUNTRY', 'TERRITORY', 'CONTACTLASTNAME', 'CONTACTFIRSTNAME',\n",
      "       'DEALSIZE'],\n",
      "      dtype='object')\n"
     ]
    }
   ],
   "source": [
    "# Creamos una mascara boolean\n",
    "booleanMask = sales.columns.isin([\"CUSTOMERNAME\",\"CONTACTFIRSTNAME1\"])\n",
    "print(booleanMask)\n",
    "print(sales.columns)"
   ]
  },
  {
   "cell_type": "code",
   "execution_count": 19,
   "id": "e1089f0d",
   "metadata": {},
   "outputs": [
    {
     "data": {
      "text/plain": [
       "Index(['CUSTOMERNAME'], dtype='object')"
      ]
     },
     "execution_count": 19,
     "metadata": {},
     "output_type": "execute_result"
    }
   ],
   "source": [
    "selectedCols = sales.columns[booleanMask]\n",
    "selectedCols"
   ]
  },
  {
   "cell_type": "code",
   "execution_count": 20,
   "id": "5fa38b68",
   "metadata": {},
   "outputs": [
    {
     "data": {
      "text/html": [
       "<div>\n",
       "<style scoped>\n",
       "    .dataframe tbody tr th:only-of-type {\n",
       "        vertical-align: middle;\n",
       "    }\n",
       "\n",
       "    .dataframe tbody tr th {\n",
       "        vertical-align: top;\n",
       "    }\n",
       "\n",
       "    .dataframe thead th {\n",
       "        text-align: right;\n",
       "    }\n",
       "</style>\n",
       "<table border=\"1\" class=\"dataframe\">\n",
       "  <thead>\n",
       "    <tr style=\"text-align: right;\">\n",
       "      <th></th>\n",
       "      <th>CUSTOMERNAME</th>\n",
       "    </tr>\n",
       "  </thead>\n",
       "  <tbody>\n",
       "    <tr>\n",
       "      <th>0</th>\n",
       "      <td>Land of Toys Inc.</td>\n",
       "    </tr>\n",
       "    <tr>\n",
       "      <th>1</th>\n",
       "      <td>Reims Collectables</td>\n",
       "    </tr>\n",
       "    <tr>\n",
       "      <th>2</th>\n",
       "      <td>Lyon Souveniers</td>\n",
       "    </tr>\n",
       "    <tr>\n",
       "      <th>3</th>\n",
       "      <td>Toys4GrownUps.com</td>\n",
       "    </tr>\n",
       "    <tr>\n",
       "      <th>4</th>\n",
       "      <td>Corporate Gift Ideas Co.</td>\n",
       "    </tr>\n",
       "    <tr>\n",
       "      <th>...</th>\n",
       "      <td>...</td>\n",
       "    </tr>\n",
       "    <tr>\n",
       "      <th>2818</th>\n",
       "      <td>Euro Shopping Channel</td>\n",
       "    </tr>\n",
       "    <tr>\n",
       "      <th>2819</th>\n",
       "      <td>Oulu Toy Supplies, Inc.</td>\n",
       "    </tr>\n",
       "    <tr>\n",
       "      <th>2820</th>\n",
       "      <td>Euro Shopping Channel</td>\n",
       "    </tr>\n",
       "    <tr>\n",
       "      <th>2821</th>\n",
       "      <td>Alpha Cognac</td>\n",
       "    </tr>\n",
       "    <tr>\n",
       "      <th>2822</th>\n",
       "      <td>Gifts4AllAges.com</td>\n",
       "    </tr>\n",
       "  </tbody>\n",
       "</table>\n",
       "<p>2823 rows × 1 columns</p>\n",
       "</div>"
      ],
      "text/plain": [
       "                  CUSTOMERNAME\n",
       "0            Land of Toys Inc.\n",
       "1           Reims Collectables\n",
       "2              Lyon Souveniers\n",
       "3            Toys4GrownUps.com\n",
       "4     Corporate Gift Ideas Co.\n",
       "...                        ...\n",
       "2818     Euro Shopping Channel\n",
       "2819   Oulu Toy Supplies, Inc.\n",
       "2820     Euro Shopping Channel\n",
       "2821              Alpha Cognac\n",
       "2822         Gifts4AllAges.com\n",
       "\n",
       "[2823 rows x 1 columns]"
      ]
     },
     "execution_count": 20,
     "metadata": {},
     "output_type": "execute_result"
    }
   ],
   "source": [
    "sales[selectedCols]"
   ]
  },
  {
   "cell_type": "code",
   "execution_count": 21,
   "id": "42448600",
   "metadata": {},
   "outputs": [
    {
     "data": {
      "text/plain": [
       "0              Land of Toys Inc.\n",
       "1             Reims Collectables\n",
       "2                Lyon Souveniers\n",
       "3              Toys4GrownUps.com\n",
       "4       Corporate Gift Ideas Co.\n",
       "                  ...           \n",
       "2818       Euro Shopping Channel\n",
       "2819     Oulu Toy Supplies, Inc.\n",
       "2820       Euro Shopping Channel\n",
       "2821                Alpha Cognac\n",
       "2822           Gifts4AllAges.com\n",
       "Name: CUSTOMERNAME, Length: 2823, dtype: object"
      ]
     },
     "execution_count": 21,
     "metadata": {},
     "output_type": "execute_result"
    }
   ],
   "source": [
    "# Usar .loc y .iloc para seleccionar columnas por nombre o posición\n",
    "# .loc seleccion de una columna simple\n",
    "sales.loc[:, 'CUSTOMERNAME' ]"
   ]
  },
  {
   "cell_type": "code",
   "execution_count": null,
   "id": "9355cd69",
   "metadata": {},
   "outputs": [],
   "source": [
    "# Selección de columnas multiples\n",
    "sales.loc[0:5, [\"CUSTOMERNAME\",\"CONTACTFIRSTNAME\"] ]"
   ]
  },
  {
   "cell_type": "code",
   "execution_count": null,
   "id": "cd3733eb",
   "metadata": {},
   "outputs": [],
   "source": [
    "# uso de iloc\n",
    "sales.iloc[1:5, [0, 2, 3] ]"
   ]
  },
  {
   "cell_type": "code",
   "execution_count": null,
   "id": "ad22ee38",
   "metadata": {},
   "outputs": [],
   "source": [
    "# seleccionamos las columnas que contengas NUMBER\n",
    "sales.filter(like='ORDER')"
   ]
  },
  {
   "cell_type": "code",
   "execution_count": null,
   "id": "a00f0323-90b3-4093-b842-9f66a3489486",
   "metadata": {},
   "outputs": [],
   "source": [
    "sales.isna().sum()"
   ]
  },
  {
   "cell_type": "code",
   "execution_count": null,
   "id": "231e6d5b-e73a-4295-aa4c-8f9b56440347",
   "metadata": {},
   "outputs": [],
   "source": [
    "sales['STATE'].fillna(value='NY', inplace=True)"
   ]
  },
  {
   "cell_type": "code",
   "execution_count": null,
   "id": "50933005-748b-44f6-adae-27b6f5c6b864",
   "metadata": {},
   "outputs": [],
   "source": [
    "df = sales[['ORDERNUMBER', 'QUANTITYORDERED', 'PRICEEACH', 'ORDERLINENUMBER',\n",
    "       'SALES', 'ORDERDATE', 'STATUS', 'QTR_ID', 'MONTH_ID', 'YEAR_ID',\n",
    "       'PRODUCTLINE', 'MSRP', 'PRODUCTCODE', 'CUSTOMERNAME']]\n",
    "df"
   ]
  },
  {
   "cell_type": "code",
   "execution_count": null,
   "id": "0843345e-1e9a-4d7b-8416-1b71541a1a45",
   "metadata": {},
   "outputs": [],
   "source": [
    "# seleccionamos filas en base a condiciones\n",
    "df2 = sales[(sales.STATE == 'NY') & (sales.QTR_ID == 1)]\n",
    "df2"
   ]
  },
  {
   "cell_type": "code",
   "execution_count": null,
   "id": "2696e58e-538c-4b11-972f-0e69a233b3e4",
   "metadata": {},
   "outputs": [],
   "source": [
    "df3 = df2.query('STATE == \"NY\" and QTR_ID == 1')\n",
    "df3"
   ]
  },
  {
   "cell_type": "code",
   "execution_count": null,
   "id": "2c15094c-0ff2-48f6-be72-b446a6e93057",
   "metadata": {},
   "outputs": [],
   "source": [
    "# group by\n",
    "\n",
    "sales[[\"COUNTRY\",'count']].groupby(\"COUNTRY\").count()"
   ]
  },
  {
   "cell_type": "code",
   "execution_count": null,
   "id": "35f17352-ebf7-40f6-8a13-1b2dc45d8fef",
   "metadata": {},
   "outputs": [],
   "source": [
    "sales[[\"COUNTRY\",\"PRICEEACH\"]].groupby(\"COUNTRY\").mean()"
   ]
  },
  {
   "cell_type": "code",
   "execution_count": null,
   "id": "1a3eca81-4367-44d0-8879-bdfc43c0ba40",
   "metadata": {},
   "outputs": [],
   "source": [
    "sales[[\"COUNTRY\",\"PRICEEACH\"]].groupby(\"COUNTRY\").max()\n"
   ]
  },
  {
   "cell_type": "code",
   "execution_count": null,
   "id": "1ac0575e-602a-4db6-a187-b5b84e5ea202",
   "metadata": {},
   "outputs": [],
   "source": [
    "sales.sort_values(by=[\"PRICEEACH\"])"
   ]
  },
  {
   "cell_type": "code",
   "execution_count": null,
   "id": "e946d556-652c-4cc8-b067-dbb39d48b3d4",
   "metadata": {},
   "outputs": [],
   "source": [
    "sales.sort_values(by=[\"PRICEEACH\"], ascending = False)\n"
   ]
  },
  {
   "cell_type": "code",
   "execution_count": null,
   "id": "1d827249-330e-4058-8a0b-e76626e3a880",
   "metadata": {},
   "outputs": [],
   "source": [
    "sales.sort_values(by = ['YEAR_ID', 'PRICEEACH'], ascending = [True, False], na_position = 'first')\n"
   ]
  },
  {
   "cell_type": "code",
   "execution_count": null,
   "id": "b5831da1",
   "metadata": {},
   "outputs": [],
   "source": [
    "import pandas as pd"
   ]
  },
  {
   "cell_type": "code",
   "execution_count": null,
   "id": "dfab5942",
   "metadata": {},
   "outputs": [],
   "source": [
    "# Concat\n",
    "fruta = { 'orange' : [3,2,0,1], 'apple' : [0,3,7,2], 'grapes' : [7,14,6,15] } \n",
    "df1 = pd.DataFrame(fruta) \n",
    "df1"
   ]
  },
  {
   "cell_type": "code",
   "execution_count": null,
   "id": "67472ffa",
   "metadata": {},
   "outputs": [],
   "source": [
    "fruta = { 'grapes' : [13,12,10,2,55,98], 'mango' : [10,13,17,2,9,76], 'banana' : [20,23,27,4,0,9], 'pear' : [21,24,28,51,22,25], 'pineapple' : [30,33,38,30,36,31] } \n",
    "df2 = pd.DataFrame(fruta) \n",
    "df2"
   ]
  },
  {
   "cell_type": "code",
   "execution_count": null,
   "id": "5c519d49",
   "metadata": {},
   "outputs": [],
   "source": [
    "# axis=0 se concatena a lo largo de las filas (añadiendo las filas de df2 debajo de las filas de df1).\n",
    "pd.concat((df1, df2), axis = 0)"
   ]
  },
  {
   "cell_type": "code",
   "execution_count": null,
   "id": "23b78db8",
   "metadata": {},
   "outputs": [],
   "source": [
    "# axis=1 se concatena a lo largo de las colunas (añadiendo las columnas de df2 a la derecha de las columnas de df1).\n",
    "pd.concat((df1, df2), axis = 1)"
   ]
  },
  {
   "cell_type": "markdown",
   "id": "a6f7b622",
   "metadata": {},
   "source": []
  },
  {
   "cell_type": "code",
   "execution_count": null,
   "id": "13a25d27",
   "metadata": {},
   "outputs": [],
   "source": [
    "import pandas as pd\n",
    "df1 = pd.DataFrame(\n",
    "    [\n",
    "       (1, 345, 'B', True),\n",
    "       (2, 100, 'C', False),\n",
    "       (3, 300, 'B', False),\n",
    "       (4, 151, 'A', False),\n",
    "       (5, 212, 'A', True),\n",
    "       (6, 121, 'C', False),\n",
    "       (7, 333, 'B', True),\n",
    "       (8, 456, 'C', True),\n",
    "    ],\n",
    "    columns=['id', 'value', 'colC', 'colD'])\n",
    "df2 = pd.DataFrame(\n",
    "    [\n",
    "       (1, 111, 10.1, 3),\n",
    "       (9, 56, 3.33, 10),\n",
    "       (10, 17, 18.0, 8),\n",
    "       (3, 567, 19.1, 4),\n",
    "       (11, 98, 2.1, 1),\n",
    "       (6, 31, 3.14, 12),\n",
    "    ],\n",
    "    columns=['id', 'value', 'colE', 'colF'])"
   ]
  },
  {
   "cell_type": "code",
   "execution_count": null,
   "id": "9d62e780-99f6-46d3-b19e-afe7026ea181",
   "metadata": {},
   "outputs": [],
   "source": [
    "import pandas as pd\n",
    "df1 = pd.DataFrame(\n",
    "    [\n",
    "       (1, 345, 'B', True),\n",
    "       (2, 100, 'C', False),\n",
    "       (3, 300, 'B', False),\n",
    "       (4, 151, 'A', False),\n",
    "       (5, 212, 'A', True),\n",
    "       (6, 121, 'C', False),\n",
    "       (7, 333, 'B', True),\n",
    "       (8, 456, 'C', True),\n",
    "    ],\n",
    "    columns=['id', 'value', 'colC', 'colD'])\n",
    "df2 = pd.DataFrame(\n",
    "    [\n",
    "       (1, 111, 10.1, 3),\n",
    "       (9, 56, 3.33, 10),\n",
    "       (10, 17, 18.0, 8),\n",
    "       (3, 567, 19.1, 4),\n",
    "       (11, 98, 2.1, 1),\n",
    "       (6, 31, 3.14, 12),\n",
    "    ],\n",
    "    columns=['id', 'value', 'colE', 'colF'])"
   ]
  },
  {
   "cell_type": "code",
   "execution_count": null,
   "id": "ef8f0714-5e84-4e91-a4ea-f07ea796b60a",
   "metadata": {},
   "outputs": [],
   "source": [
    "df2"
   ]
  },
  {
   "cell_type": "code",
   "execution_count": null,
   "id": "01e4dc07",
   "metadata": {},
   "outputs": [],
   "source": [
    "# Inner join\n",
    "df1.merge(df2, on='id')"
   ]
  },
  {
   "cell_type": "code",
   "execution_count": null,
   "id": "224f0070",
   "metadata": {},
   "outputs": [],
   "source": [
    "# left join\n",
    "df1.merge(df2, on='id', how='left')"
   ]
  },
  {
   "cell_type": "code",
   "execution_count": null,
   "id": "6a375e2c",
   "metadata": {},
   "outputs": [],
   "source": [
    "# right join\n",
    "df1.merge(df2, on='id', how='right')"
   ]
  },
  {
   "cell_type": "code",
   "execution_count": null,
   "id": "f9219607",
   "metadata": {},
   "outputs": [],
   "source": [
    "# full outer join\n",
    "df1.merge(df2, on='id', how='outer')"
   ]
  },
  {
   "cell_type": "code",
   "execution_count": null,
   "id": "382a6db7",
   "metadata": {},
   "outputs": [],
   "source": [
    "# left anti join\n",
    "df1.merge(df2,left_on='id', right_on='id', how='left', indicator=True)\\\n",
    "    .query('_merge == \"left_only\"')[[\"id\",\"colC\",\"colD\"]]"
   ]
  },
  {
   "cell_type": "code",
   "execution_count": null,
   "id": "474f4e68",
   "metadata": {},
   "outputs": [],
   "source": [
    "# right anti join\n",
    "df1.merge(df2, on='id', how='right', indicator=True) \\\n",
    "  .query('_merge == \"right_only\"')"
   ]
  },
  {
   "cell_type": "code",
   "execution_count": null,
   "id": "794583c2",
   "metadata": {
    "scrolled": true
   },
   "outputs": [],
   "source": [
    "import pandas as pd\n",
    "data = {'id': [1, 2, 3, 4, 5, 6, 7, 7],\n",
    "        'first_name': ['Sigrid', 'Kennedy', 'Theodoric', 'Sigrid', 'Kennedy', 'Beatrix', 'Olimpia', 'Olimpia'],\n",
    "        'last_name': ['Mannock', 'Donnell', 'Rivers', 'Mannock', 'Donnell', 'Parlett', 'Guenther', 'Guenther'],\n",
    "        'age': [27, 31, 36, 27, 53, 48, 36, 36],\n",
    "        'amount': [7.17, 1.90, 1.11, 7.17, 1.41, 6.69, 4.62, 4.62]}\n",
    "df = pd.DataFrame(data, columns = ['id', 'first_name', 'last_name', 'age', 'amount'])\n",
    "df"
   ]
  },
  {
   "cell_type": "code",
   "execution_count": null,
   "id": "01e6a394",
   "metadata": {},
   "outputs": [],
   "source": [
    "df.duplicated()"
   ]
  },
  {
   "cell_type": "code",
   "execution_count": null,
   "id": "d019842c",
   "metadata": {},
   "outputs": [],
   "source": [
    "df = df.drop_duplicates()\n",
    "df"
   ]
  },
  {
   "cell_type": "code",
   "execution_count": null,
   "id": "7fe2355f",
   "metadata": {},
   "outputs": [],
   "source": [
    "# Busca duplicados en una sola columa\n",
    "df.duplicated(df.columns[~df.columns.isin(['id'])])"
   ]
  },
  {
   "cell_type": "code",
   "execution_count": null,
   "id": "7ce188f2",
   "metadata": {},
   "outputs": [],
   "source": [
    "df = df.drop_duplicates(df.columns[~df.columns.isin(['id'])],\n",
    "                        keep='first')\n",
    "df"
   ]
  },
  {
   "cell_type": "code",
   "execution_count": null,
   "id": "042cf82a-bcd2-4872-a185-9bfa6e02ecda",
   "metadata": {},
   "outputs": [],
   "source": []
  }
 ],
 "metadata": {
  "kernelspec": {
   "display_name": "Python 3",
   "language": "python",
   "name": "python3"
  },
  "language_info": {
   "codemirror_mode": {
    "name": "ipython",
    "version": 3
   },
   "file_extension": ".py",
   "mimetype": "text/x-python",
   "name": "python",
   "nbconvert_exporter": "python",
   "pygments_lexer": "ipython3",
   "version": "3.12.1"
  }
 },
 "nbformat": 4,
 "nbformat_minor": 5
}
